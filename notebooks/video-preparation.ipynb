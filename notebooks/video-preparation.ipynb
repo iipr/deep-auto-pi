{
 "cells": [
  {
   "cell_type": "markdown",
   "metadata": {},
   "source": [
    "In this notebook we transfer selected frames from the videos into a single HDF5 file.  \n",
    "Before doing so, we flip them around both axes and resize them to 300x300.  \n",
    "All these frames will be the input to our model, alongside the car distances we computed in a separate notebook."
   ]
  },
  {
   "cell_type": "code",
   "execution_count": 1,
   "metadata": {},
   "outputs": [],
   "source": [
    "import pandas as pd\n",
    "from pandas.io.pytables import HDFStore\n",
    "import numpy as np\n",
    "import matplotlib.pyplot as plt\n",
    "import cv2, os, sys, tables\n",
    "sys.path.append('../scripts/')\n",
    "import videoUtils"
   ]
  },
  {
   "cell_type": "markdown",
   "metadata": {},
   "source": [
    "# Transfer frames to HDF5"
   ]
  },
  {
   "cell_type": "markdown",
   "metadata": {},
   "source": [
    "The table with the file matching will help us with the left offset that we shall apply to the videos:"
   ]
  },
  {
   "cell_type": "code",
   "execution_count": 2,
   "metadata": {},
   "outputs": [
    {
     "data": {
      "text/html": [
       "<div>\n",
       "<style scoped>\n",
       "    .dataframe tbody tr th:only-of-type {\n",
       "        vertical-align: middle;\n",
       "    }\n",
       "\n",
       "    .dataframe tbody tr th {\n",
       "        vertical-align: top;\n",
       "    }\n",
       "\n",
       "    .dataframe thead th {\n",
       "        text-align: right;\n",
       "    }\n",
       "</style>\n",
       "<table border=\"1\" class=\"dataframe\">\n",
       "  <thead>\n",
       "    <tr style=\"text-align: right;\">\n",
       "      <th></th>\n",
       "      <th>dgps</th>\n",
       "      <th>tesla</th>\n",
       "      <th>mercedes</th>\n",
       "      <th>tesla_videos</th>\n",
       "      <th>mercedes_videos</th>\n",
       "      <th>tesla_left_offset</th>\n",
       "      <th>mercedes_left_offset</th>\n",
       "    </tr>\n",
       "  </thead>\n",
       "  <tbody>\n",
       "    <tr>\n",
       "      <th>0</th>\n",
       "      <td>Thursday 1st manual.csv</td>\n",
       "      <td>2019-07-04-13-04-32.csv</td>\n",
       "      <td>2019-07-04-13-08-00.csv</td>\n",
       "      <td>V0350035.GLV</td>\n",
       "      <td>V0830086.GLV+V0830087.GLV</td>\n",
       "      <td>50.368</td>\n",
       "      <td>152.368</td>\n",
       "    </tr>\n",
       "    <tr>\n",
       "      <th>1</th>\n",
       "      <td>Thursday ACC max dist.csv</td>\n",
       "      <td>2019-07-04-13-04-32.csv</td>\n",
       "      <td>2019-07-04-13-44-50.csv</td>\n",
       "      <td>V0360037.GLV</td>\n",
       "      <td>V0840088.GLV</td>\n",
       "      <td>0.000</td>\n",
       "      <td>65.268</td>\n",
       "    </tr>\n",
       "    <tr>\n",
       "      <th>2</th>\n",
       "      <td>Thursday ACC min dist 60 90.csv</td>\n",
       "      <td>2019-07-04-14-15-08.csv</td>\n",
       "      <td>2019-07-04-14-15-16.csv</td>\n",
       "      <td>V0380039.GLV</td>\n",
       "      <td>V0850089.GLV</td>\n",
       "      <td>10.338</td>\n",
       "      <td>2.338</td>\n",
       "    </tr>\n",
       "    <tr>\n",
       "      <th>3</th>\n",
       "      <td>Thursday manual 50 100 inverse.csv</td>\n",
       "      <td>2019-07-04-15-34-19.csv</td>\n",
       "      <td>2019-07-04-15-34-58.csv</td>\n",
       "      <td>V0420043.GLV</td>\n",
       "      <td>V0880092.GLV</td>\n",
       "      <td>11.713</td>\n",
       "      <td>0.000</td>\n",
       "    </tr>\n",
       "    <tr>\n",
       "      <th>4</th>\n",
       "      <td>Thursday ACC min dist 50 100.csv</td>\n",
       "      <td>2019-07-04-14-50-23.csv</td>\n",
       "      <td>2019-07-04-14-50-58.csv</td>\n",
       "      <td>V0390040.GLV</td>\n",
       "      <td>V0860090.GLV</td>\n",
       "      <td>26.704</td>\n",
       "      <td>0.000</td>\n",
       "    </tr>\n",
       "    <tr>\n",
       "      <th>6</th>\n",
       "      <td>Thursday ACC min dist 50 100 with small perts.csv</td>\n",
       "      <td>2019-07-04-15-13-46.csv</td>\n",
       "      <td>2019-07-04-15-14-33.csv</td>\n",
       "      <td>V0400041.GLV</td>\n",
       "      <td>V0870091.GLV</td>\n",
       "      <td>17.746</td>\n",
       "      <td>0.000</td>\n",
       "    </tr>\n",
       "    <tr>\n",
       "      <th>9</th>\n",
       "      <td>Thursday ACC min dist 50 100 inverse 2.csv</td>\n",
       "      <td>NaN</td>\n",
       "      <td>2019-07-04-15-58-49.csv</td>\n",
       "      <td>NaN</td>\n",
       "      <td>V0890093.GLV</td>\n",
       "      <td>NaN</td>\n",
       "      <td>0.000</td>\n",
       "    </tr>\n",
       "  </tbody>\n",
       "</table>\n",
       "</div>"
      ],
      "text/plain": [
       "                                                dgps                    tesla  \\\n",
       "0                            Thursday 1st manual.csv  2019-07-04-13-04-32.csv   \n",
       "1                          Thursday ACC max dist.csv  2019-07-04-13-04-32.csv   \n",
       "2                    Thursday ACC min dist 60 90.csv  2019-07-04-14-15-08.csv   \n",
       "3                 Thursday manual 50 100 inverse.csv  2019-07-04-15-34-19.csv   \n",
       "4                   Thursday ACC min dist 50 100.csv  2019-07-04-14-50-23.csv   \n",
       "6  Thursday ACC min dist 50 100 with small perts.csv  2019-07-04-15-13-46.csv   \n",
       "9         Thursday ACC min dist 50 100 inverse 2.csv                      NaN   \n",
       "\n",
       "                  mercedes  tesla_videos            mercedes_videos  \\\n",
       "0  2019-07-04-13-08-00.csv  V0350035.GLV  V0830086.GLV+V0830087.GLV   \n",
       "1  2019-07-04-13-44-50.csv  V0360037.GLV               V0840088.GLV   \n",
       "2  2019-07-04-14-15-16.csv  V0380039.GLV               V0850089.GLV   \n",
       "3  2019-07-04-15-34-58.csv  V0420043.GLV               V0880092.GLV   \n",
       "4  2019-07-04-14-50-58.csv  V0390040.GLV               V0860090.GLV   \n",
       "6  2019-07-04-15-14-33.csv  V0400041.GLV               V0870091.GLV   \n",
       "9  2019-07-04-15-58-49.csv           NaN               V0890093.GLV   \n",
       "\n",
       "   tesla_left_offset  mercedes_left_offset  \n",
       "0             50.368               152.368  \n",
       "1              0.000                65.268  \n",
       "2             10.338                 2.338  \n",
       "3             11.713                 0.000  \n",
       "4             26.704                 0.000  \n",
       "6             17.746                 0.000  \n",
       "9                NaN                 0.000  "
      ]
     },
     "execution_count": 2,
     "metadata": {},
     "output_type": "execute_result"
    }
   ],
   "source": [
    "df_ord = pd.read_csv('../data/clean/files_matching.csv')\n",
    "df_ord = df_ord[(~df_ord.dgps.isna()) & ~(df_ord.tesla_videos.isna() & df_ord.mercedes_videos.isna())]\n",
    "df_ord.loc[:, [c for c in df_ord.columns if 'right' not in c]]"
   ]
  },
  {
   "cell_type": "markdown",
   "metadata": {},
   "source": [
    "For convenience, we extract the (relevant) video names into a list:"
   ]
  },
  {
   "cell_type": "code",
   "execution_count": 3,
   "metadata": {},
   "outputs": [
    {
     "data": {
      "text/plain": [
       "['V0350035.GLV',\n",
       " 'V0830086.GLV+V0830087.GLV',\n",
       " 'V0360037.GLV',\n",
       " 'V0840088.GLV',\n",
       " 'V0380039.GLV',\n",
       " 'V0850089.GLV',\n",
       " 'V0420043.GLV',\n",
       " 'V0880092.GLV',\n",
       " 'V0390040.GLV',\n",
       " 'V0860090.GLV',\n",
       " 'V0400041.GLV',\n",
       " 'V0870091.GLV',\n",
       " 'V0890093.GLV']"
      ]
     },
     "execution_count": 3,
     "metadata": {},
     "output_type": "execute_result"
    }
   ],
   "source": [
    "videos = [video for video in df_ord.iloc[:, [3, 4]].values.reshape(-1) if not pd.isnull(video)]\n",
    "videos"
   ]
  },
  {
   "cell_type": "markdown",
   "metadata": {},
   "source": [
    "And process them, one by one. Notice that `V0830086.GLV+V0830087.GLV` is a special case."
   ]
  },
  {
   "cell_type": "code",
   "execution_count": 4,
   "metadata": {
    "scrolled": false
   },
   "outputs": [
    {
     "name": "stderr",
     "output_type": "stream",
     "text": [
      "    Processed 15000 out of 15791 frames, progress: 95.0%, elapsed: 1388 secc"
     ]
    },
    {
     "name": "stdout",
     "output_type": "stream",
     "text": [
      "Video V0350035.GLV\n",
      "15791 frames transformed, of a total of 15791\n",
      "The dataframe has 15791 non-nan values, and shape 18000\n",
      "The left offset is 50.368\n",
      "In the video, the total number of frames is 18008.0\n",
      "Original number of frames is 53970.0, with fps 29.97\n",
      "--------------------------------------------\n"
     ]
    },
    {
     "name": "stderr",
     "output_type": "stream",
     "text": [
      "    Processed 15000 out of 15791 frames, progress: 95.0%, elapsed: 1388 secc"
     ]
    },
    {
     "name": "stdout",
     "output_type": "stream",
     "text": [
      "Video V0830086.GLV\n",
      "15791 frames transformed, of a total of 15791\n",
      "The dataframe has 15791 non-nan values, and shape 21580\n",
      "The left offset is 152.368\n",
      "In the video, the total number of frames is 18008.0\n",
      "Original number of frames is 53970.0, with fps 29.97\n",
      "--------------------------------------------\n"
     ]
    },
    {
     "name": "stderr",
     "output_type": "stream",
     "text": [
      "    Processed 11000 out of 11720 frames, progress: 93.87%, elapsed: 1021 sec"
     ]
    },
    {
     "name": "stdout",
     "output_type": "stream",
     "text": [
      "Video V0360037.GLV\n",
      "11720 frames transformed, of a total of 11720\n",
      "The dataframe has 11720 non-nan values, and shape 11720\n",
      "The left offset is 0.0\n",
      "In the video, the total number of frames is 11729.4\n",
      "Original number of frames is 35153.0, with fps 29.97\n",
      "--------------------------------------------\n"
     ]
    },
    {
     "name": "stderr",
     "output_type": "stream",
     "text": [
      "    Processed 12000 out of 12314 frames, progress: 97.46%, elapsed: 1117 sec"
     ]
    },
    {
     "name": "stdout",
     "output_type": "stream",
     "text": [
      "Video V0840088.GLV\n",
      "12314 frames transformed, of a total of 12314\n",
      "The dataframe has 12314 non-nan values, and shape 13220\n",
      "The left offset is 65.268\n",
      "In the video, the total number of frames is 13212.2\n",
      "Original number of frames is 39597.0, with fps 29.97\n",
      "--------------------------------------------\n"
     ]
    },
    {
     "name": "stderr",
     "output_type": "stream",
     "text": [
      "    Processed 9000 out of 9076 frames, progress: 99.17%, elapsed: 826 sec"
     ]
    },
    {
     "name": "stdout",
     "output_type": "stream",
     "text": [
      "Video V0380039.GLV\n",
      "9076 frames transformed, of a total of 9076\n",
      "The dataframe has 9076 non-nan values, and shape 9450\n",
      "The left offset is 10.338\n",
      "In the video, the total number of frames is 9448.77\n",
      "Original number of frames is 28318.0, with fps 29.97\n",
      "--------------------------------------------\n"
     ]
    },
    {
     "name": "stderr",
     "output_type": "stream",
     "text": [
      "    Processed 9000 out of 9076 frames, progress: 99.17%, elapsed: 830 sec"
     ]
    },
    {
     "name": "stdout",
     "output_type": "stream",
     "text": [
      "Video V0850089.GLV\n",
      "9076 frames transformed, of a total of 9076\n",
      "The dataframe has 9076 non-nan values, and shape 9500\n",
      "The left offset is 2.338\n",
      "In the video, the total number of frames is 9505.16\n",
      "Original number of frames is 28487.0, with fps 29.97\n",
      "--------------------------------------------\n"
     ]
    },
    {
     "name": "stderr",
     "output_type": "stream",
     "text": [
      "    Processed 11000 out of 11043 frames, progress: 99.62%, elapsed: 1003 sec"
     ]
    },
    {
     "name": "stdout",
     "output_type": "stream",
     "text": [
      "Video V0420043.GLV\n",
      "11043 frames transformed, of a total of 11043\n",
      "The dataframe has 11043 non-nan values, and shape 11160\n",
      "The left offset is 11.713\n",
      "In the video, the total number of frames is 11163.5\n",
      "Original number of frames is 33457.0, with fps 29.97\n",
      "--------------------------------------------\n"
     ]
    },
    {
     "name": "stderr",
     "output_type": "stream",
     "text": [
      "    Processed 12000 out of 12130 frames, progress: 98.94%, elapsed: 1102 sec"
     ]
    },
    {
     "name": "stdout",
     "output_type": "stream",
     "text": [
      "Video V0880092.GLV\n",
      "12125 frames transformed, of a total of 12126\n",
      "The dataframe has 12130 non-nan values, and shape 12130\n",
      "The left offset is 0.0\n",
      "In the video, the total number of frames is 12124.4\n",
      "Original number of frames is 36337.0, with fps 29.97\n",
      "--------------------------------------------\n"
     ]
    },
    {
     "name": "stderr",
     "output_type": "stream",
     "text": [
      "    Processed 9000 out of 9457 frames, progress: 95.18%, elapsed: 835 sec"
     ]
    },
    {
     "name": "stdout",
     "output_type": "stream",
     "text": [
      "Video V0390040.GLV\n",
      "9457 frames transformed, of a total of 9457\n",
      "The dataframe has 9457 non-nan values, and shape 9730\n",
      "The left offset is 26.704\n",
      "In the video, the total number of frames is 9729.05\n",
      "Original number of frames is 29158.0, with fps 29.97\n",
      "--------------------------------------------\n"
     ]
    },
    {
     "name": "stderr",
     "output_type": "stream",
     "text": [
      "    Processed 9000 out of 9374 frames, progress: 96.02%, elapsed: 837 sec"
     ]
    },
    {
     "name": "stdout",
     "output_type": "stream",
     "text": [
      "Video V0860090.GLV\n",
      "9374 frames transformed, of a total of 9374\n",
      "The dataframe has 9374 non-nan values, and shape 9450\n",
      "The left offset is 0.0\n",
      "In the video, the total number of frames is 9457.78\n",
      "Original number of frames is 28345.0, with fps 29.97\n",
      "--------------------------------------------\n"
     ]
    },
    {
     "name": "stderr",
     "output_type": "stream",
     "text": [
      "    Processed 9000 out of 9163 frames, progress: 98.23%, elapsed: 825 sec"
     ]
    },
    {
     "name": "stdout",
     "output_type": "stream",
     "text": [
      "Video V0400041.GLV\n",
      "9162 frames transformed, of a total of 9163\n",
      "The dataframe has 9163 non-nan values, and shape 9340\n",
      "The left offset is 17.746\n",
      "In the video, the total number of frames is 9338.66\n",
      "Original number of frames is 27988.0, with fps 29.97\n",
      "--------------------------------------------\n"
     ]
    },
    {
     "name": "stderr",
     "output_type": "stream",
     "text": [
      "    Processed 8000 out of 8975 frames, progress: 89.15%, elapsed: 743 sec"
     ]
    },
    {
     "name": "stdout",
     "output_type": "stream",
     "text": [
      "Video V0870091.GLV\n",
      "8975 frames transformed, of a total of 8975\n",
      "The dataframe has 8975 non-nan values, and shape 9800\n",
      "The left offset is 0.0\n",
      "In the video, the total number of frames is 9793.78\n",
      "Original number of frames is 29352.0, with fps 29.97\n",
      "--------------------------------------------\n"
     ]
    },
    {
     "name": "stderr",
     "output_type": "stream",
     "text": [
      "    Processed 4000 out of 4670 frames, progress: 85.67%, elapsed: 369 sec"
     ]
    },
    {
     "name": "stdout",
     "output_type": "stream",
     "text": [
      "Video V0890093.GLV\n",
      "4670 frames transformed, of a total of 4670\n",
      "The dataframe has 4670 non-nan values, and shape 4670\n",
      "The left offset is 0.0\n",
      "In the video, the total number of frames is 4677.34\n",
      "Original number of frames is 14018.0, with fps 29.97\n",
      "--------------------------------------------\n"
     ]
    }
   ],
   "source": [
    "out_path = '../data/clean/car_frames.h5'\n",
    "with HDFStore('../data/clean/car_distances.h5', mode='r') as store_r:\n",
    "    for video in videos:\n",
    "        # Obtain dataframe with the distances\n",
    "        if video == 'V0830086.GLV+V0830087.GLV':\n",
    "            video = 'V0830086.GLV'\n",
    "            df = store_r['V0830086_V0830087']\n",
    "        else:\n",
    "            df = store_r[video[:-4]]\n",
    "        # Number of rows in the dataframe\n",
    "        tot_shape = df.shape[0]\n",
    "        # Number of non-na rows in the dataframe\n",
    "        non_na = df[~df.iloc[:, 1].isna()].shape[0]\n",
    "        # Obtain left offset of the video based on video name\n",
    "        left_offset = df_ord[df_ord.tesla_videos.str.contains(video, na=False)].tesla_left_offset\n",
    "        if left_offset.empty:\n",
    "            left_offset = df_ord[df_ord.mercedes_videos.str.contains(video, na=False)].mercedes_left_offset\n",
    "        # Extract from the pd.Series\n",
    "        left_offset = left_offset.iloc[0]\n",
    "\n",
    "        # Path of the video file (Tesla or Mercedes)\n",
    "        path = '../data/raw/day 4/DCIM/100_VIRB/'\n",
    "        if not os.path.exists(path + video):\n",
    "            path = path.replace('4', '4 b')\n",
    "        # Total number of frames in the video and fps\n",
    "        tot_frames = videoUtils.get_total_frames(path + video)\n",
    "        fps = videoUtils.get_fps(path + video)\n",
    "        # Call function that transforms the video into frames with the required offset\n",
    "        frames_ok, frame_count = videoUtils.video_2_frames(video, path, out_path, timestep=100, \n",
    "                                                           left_offset=left_offset*1000, max_frames=non_na)\n",
    "\n",
    "        print('Video {}'.format(video))\n",
    "        print('{} frames transformed, of a total of {}'.format(frames_ok, frame_count))\n",
    "        print('The dataframe has {} non-nan values, and shape {}'.format(non_na, tot_shape))\n",
    "        print('The left offset is {}'.format(left_offset))\n",
    "        print('In the video, the total number of frames is {:0.6}'.format(tot_frames / fps / 0.1))\n",
    "        print('Original number of frames is {:0.6}, with fps {:0.6}'.format(tot_frames, fps))\n",
    "        print('--------------------------------------------')"
   ]
  },
  {
   "cell_type": "markdown",
   "metadata": {},
   "source": [
    "# Check nodes in the HDF5"
   ]
  },
  {
   "cell_type": "code",
   "execution_count": 8,
   "metadata": {},
   "outputs": [
    {
     "name": "stdout",
     "output_type": "stream",
     "text": [
      "[/ (RootGroup) ''\n",
      "  children := ['V0350035' (EArray), 'V0360037' (EArray), 'V0380039' (EArray), 'V0390040' (EArray), 'V0400041' (EArray), 'V0420043' (EArray), 'V0830086' (EArray), 'V0840088' (EArray), 'V0850089' (EArray), 'V0860090' (EArray), 'V0870091' (EArray), 'V0880092' (EArray), 'V0890093' (EArray)], /V0350035 (EArray(15791, 300, 300, 3), shuffle, blosc:lz4hc(9)) ''\n",
      "  atom := UInt8Atom(shape=(), dflt=0)\n",
      "  maindim := 0\n",
      "  flavor := 'numpy'\n",
      "  byteorder := 'irrelevant'\n",
      "  chunkshape := (1, 300, 300, 3), /V0360037 (EArray(11720, 300, 300, 3), shuffle, blosc:lz4hc(9)) ''\n",
      "  atom := UInt8Atom(shape=(), dflt=0)\n",
      "  maindim := 0\n",
      "  flavor := 'numpy'\n",
      "  byteorder := 'irrelevant'\n",
      "  chunkshape := (1, 300, 300, 3), /V0380039 (EArray(9076, 300, 300, 3), shuffle, blosc:lz4hc(9)) ''\n",
      "  atom := UInt8Atom(shape=(), dflt=0)\n",
      "  maindim := 0\n",
      "  flavor := 'numpy'\n",
      "  byteorder := 'irrelevant'\n",
      "  chunkshape := (1, 300, 300, 3), /V0390040 (EArray(9457, 300, 300, 3), shuffle, blosc:lz4hc(9)) ''\n",
      "  atom := UInt8Atom(shape=(), dflt=0)\n",
      "  maindim := 0\n",
      "  flavor := 'numpy'\n",
      "  byteorder := 'irrelevant'\n",
      "  chunkshape := (1, 300, 300, 3), /V0400041 (EArray(9162, 300, 300, 3), shuffle, blosc:lz4hc(9)) ''\n",
      "  atom := UInt8Atom(shape=(), dflt=0)\n",
      "  maindim := 0\n",
      "  flavor := 'numpy'\n",
      "  byteorder := 'irrelevant'\n",
      "  chunkshape := (1, 300, 300, 3), /V0420043 (EArray(11043, 300, 300, 3), shuffle, blosc:lz4hc(9)) ''\n",
      "  atom := UInt8Atom(shape=(), dflt=0)\n",
      "  maindim := 0\n",
      "  flavor := 'numpy'\n",
      "  byteorder := 'irrelevant'\n",
      "  chunkshape := (1, 300, 300, 3), /V0830086 (EArray(15791, 300, 300, 3), shuffle, blosc:lz4hc(9)) ''\n",
      "  atom := UInt8Atom(shape=(), dflt=0)\n",
      "  maindim := 0\n",
      "  flavor := 'numpy'\n",
      "  byteorder := 'irrelevant'\n",
      "  chunkshape := (1, 300, 300, 3), /V0840088 (EArray(12314, 300, 300, 3), shuffle, blosc:lz4hc(9)) ''\n",
      "  atom := UInt8Atom(shape=(), dflt=0)\n",
      "  maindim := 0\n",
      "  flavor := 'numpy'\n",
      "  byteorder := 'irrelevant'\n",
      "  chunkshape := (1, 300, 300, 3), /V0850089 (EArray(9076, 300, 300, 3), shuffle, blosc:lz4hc(9)) ''\n",
      "  atom := UInt8Atom(shape=(), dflt=0)\n",
      "  maindim := 0\n",
      "  flavor := 'numpy'\n",
      "  byteorder := 'irrelevant'\n",
      "  chunkshape := (1, 300, 300, 3), /V0860090 (EArray(9374, 300, 300, 3), shuffle, blosc:lz4hc(9)) ''\n",
      "  atom := UInt8Atom(shape=(), dflt=0)\n",
      "  maindim := 0\n",
      "  flavor := 'numpy'\n",
      "  byteorder := 'irrelevant'\n",
      "  chunkshape := (1, 300, 300, 3), /V0870091 (EArray(8975, 300, 300, 3), shuffle, blosc:lz4hc(9)) ''\n",
      "  atom := UInt8Atom(shape=(), dflt=0)\n",
      "  maindim := 0\n",
      "  flavor := 'numpy'\n",
      "  byteorder := 'irrelevant'\n",
      "  chunkshape := (1, 300, 300, 3), /V0880092 (EArray(12125, 300, 300, 3), shuffle, blosc:lz4hc(9)) ''\n",
      "  atom := UInt8Atom(shape=(), dflt=0)\n",
      "  maindim := 0\n",
      "  flavor := 'numpy'\n",
      "  byteorder := 'irrelevant'\n",
      "  chunkshape := (1, 300, 300, 3), /V0890093 (EArray(4670, 300, 300, 3), shuffle, blosc:lz4hc(9)) ''\n",
      "  atom := UInt8Atom(shape=(), dflt=0)\n",
      "  maindim := 0\n",
      "  flavor := 'numpy'\n",
      "  byteorder := 'irrelevant'\n",
      "  chunkshape := (1, 300, 300, 3)]\n"
     ]
    }
   ],
   "source": [
    "hdf5_file = tables.open_file(out_path, mode='r')\n",
    "print([n for n in hdf5_file.walk_nodes()])\n",
    "hdf5_file.close()"
   ]
  }
 ],
 "metadata": {
  "kernelspec": {
   "display_name": "Python 3",
   "language": "python",
   "name": "python3"
  },
  "language_info": {
   "codemirror_mode": {
    "name": "ipython",
    "version": 3
   },
   "file_extension": ".py",
   "mimetype": "text/x-python",
   "name": "python",
   "nbconvert_exporter": "python",
   "pygments_lexer": "ipython3",
   "version": "3.6.6"
  },
  "latex_envs": {
   "LaTeX_envs_menu_present": true,
   "autoclose": false,
   "autocomplete": true,
   "bibliofile": "biblio.bib",
   "cite_by": "apalike",
   "current_citInitial": 1,
   "eqLabelWithNumbers": true,
   "eqNumInitial": 1,
   "hotkeys": {
    "equation": "Ctrl-E",
    "itemize": "Ctrl-I"
   },
   "labels_anchors": false,
   "latex_user_defs": false,
   "report_style_numbering": false,
   "user_envs_cfg": false
  },
  "toc": {
   "base_numbering": 1,
   "nav_menu": {},
   "number_sections": true,
   "sideBar": true,
   "skip_h1_title": false,
   "title_cell": "Table of Contents",
   "title_sidebar": "Contents",
   "toc_cell": false,
   "toc_position": {
    "height": "calc(100% - 180px)",
    "left": "10px",
    "top": "150px",
    "width": "315.797px"
   },
   "toc_section_display": true,
   "toc_window_display": true
  }
 },
 "nbformat": 4,
 "nbformat_minor": 2
}
